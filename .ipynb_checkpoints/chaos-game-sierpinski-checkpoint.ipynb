{
 "cells": [
  {
   "cell_type": "code",
   "execution_count": 2,
   "id": "84082a14",
   "metadata": {},
   "outputs": [],
   "source": [
    "from generativepy.bitmap import make_bitmap, Scaler\n",
    "from generativepy.color import Color\n",
    "from PIL import ImageDraw\n",
    "import math\n",
    "import random"
   ]
  },
  {
   "cell_type": "code",
   "execution_count": 18,
   "id": "b5d7f796",
   "metadata": {},
   "outputs": [],
   "source": [
    "SIN60 = math.sin(math.pi/3)\n",
    "\n",
    "SIZE = 600\n",
    "RANGE = 1.1\n",
    "ITERATIONS = 1000000\n",
    "VERTICES = [(-1, SIN60),\n",
    "            (0, -SIN60),\n",
    "            (1, SIN60)]"
   ]
  },
  {
   "cell_type": "code",
   "execution_count": 4,
   "id": "7c575fad",
   "metadata": {},
   "outputs": [],
   "source": [
    "def paint(image, pixel_width, pixel_height, frame_no, frame_count):\n",
    "    scaler = Scaler(pixel_width, pixel_height,\n",
    "                    width=RANGE*2, height=RANGE*2,\n",
    "                    startx=-RANGE, starty=-RANGE)\n",
    "    draw = ImageDraw.Draw(image)\n",
    "    draw.rectangle((0, 0, pixel_width, pixel_height),\n",
    "                   fill=Color(0.2).as_rgbstr())\n",
    "    x, y = 0, 0\n",
    "    color = Color('green').as_rgbstr()\n",
    "    for i in range(ITERATIONS):\n",
    "        vertex = random.choice(VERTICES)\n",
    "        x = (x + vertex[0])/2\n",
    "        y = (y + vertex[1])/2\n",
    "        u, v = scaler.user_to_device(x, y)\n",
    "        draw.point((u, v), color)"
   ]
  },
  {
   "cell_type": "code",
   "execution_count": 19,
   "id": "6a00e621",
   "metadata": {},
   "outputs": [],
   "source": [
    "make_bitmap(\"chaos-game-sierpinski.png\", paint, SIZE, SIZE)"
   ]
  },
  {
   "cell_type": "code",
   "execution_count": null,
   "id": "f5cc7629",
   "metadata": {},
   "outputs": [],
   "source": []
  }
 ],
 "metadata": {
  "kernelspec": {
   "display_name": "Python 3 (ipykernel)",
   "language": "python",
   "name": "python3"
  },
  "language_info": {
   "codemirror_mode": {
    "name": "ipython",
    "version": 3
   },
   "file_extension": ".py",
   "mimetype": "text/x-python",
   "name": "python",
   "nbconvert_exporter": "python",
   "pygments_lexer": "ipython3",
   "version": "3.8.10"
  }
 },
 "nbformat": 4,
 "nbformat_minor": 5
}
